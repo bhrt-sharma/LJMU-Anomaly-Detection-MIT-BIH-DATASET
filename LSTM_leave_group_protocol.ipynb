{
 "cells": [
  {
   "cell_type": "markdown",
   "metadata": {},
   "source": [
    "# Classification of beats using an LSTM model and the leave out patients validation protocol"
   ]
  },
  {
   "cell_type": "code",
   "execution_count": 1,
   "metadata": {
    "id": "NVdEZoYZcDOy"
   },
   "outputs": [],
   "source": [
    "import numpy as np\n",
    "import glob\n",
    "import matplotlib.pyplot as plt\n",
    "import pandas as pd\n",
    "from scipy import *\n",
    "import os\n",
    "import seaborn as sns\n",
    "from sklearn import *\n",
    "from sklearn.metrics import *\n",
    "import tensorflow as tf\n",
    "from tensorflow.keras.models import Sequential\n",
    "from tensorflow.keras.layers import Dense, BatchNormalization\n",
    "from tensorflow.keras.models import Model\n",
    "from tensorflow.keras.utils import to_categorical\n",
    "from tensorflow.keras.layers import Dropout\n",
    "from tensorflow.keras.layers import Flatten\n",
    "from tensorflow.keras.layers import LSTM\n",
    "from tensorflow.keras.layers import MaxPooling1D\n",
    "length = 277"
   ]
  },
  {
   "cell_type": "markdown",
   "metadata": {
    "id": "ahZv1oeYZrK4"
   },
   "source": [
    "### Extract task-specific data and one-hot encode labels"
   ]
  },
  {
   "cell_type": "code",
   "execution_count": 4,
   "metadata": {
    "colab": {
     "base_uri": "https://localhost:8080/"
    },
    "id": "HJUFmtIWY1ln",
    "outputId": "a6a3f726-3383-4135-d20b-63a04ecb7500"
   },
   "outputs": [
    {
     "name": "stdout",
     "output_type": "stream",
     "text": [
      "Loading  ../mimic3-code-main/module2_week1/train_patients.csv\n",
      "Loading  ../mimic3-code-main/module2_week1/test_patients.csv\n",
      "(206312, 277)\n",
      "(14380, 277)\n"
     ]
    }
   ],
   "source": [
    "# Load the training and testing data:\n",
    "train_values = np.empty(shape=[0, length])\n",
    "test_values = np.empty(shape=[0, length])\n",
    "\n",
    "train_beats = glob.glob('./train_patients.csv')\n",
    "test_beats = glob.glob('./test_patients.csv')\n",
    "\n",
    "for j in train_beats:\n",
    "    print('Loading ', j)\n",
    "    csvrows = np.loadtxt(j, delimiter=',')\n",
    "    train_values = np.append(train_values, csvrows, axis=0)\n",
    "\n",
    "for j in test_beats:\n",
    "    print('Loading ', j)\n",
    "    csvrows = np.loadtxt(j, delimiter=',')\n",
    "    test_values = np.append(test_values, csvrows, axis=0)\n",
    "    \n",
    "print(train_values.shape)\n",
    "print(test_values.shape)\n",
    "\n",
    "# Separate the training and testing data, and one-hot encode Y:\n",
    "X_train = train_values[:,:-2]\n",
    "X_test = test_values[:,:-2]\n",
    "\n",
    "X_train1 = X_train.reshape(-1, X_train.shape[1], 1)\n",
    "X_test1 = X_test.reshape(-1, X_train.shape[1], 1)\n",
    "\n",
    "y_train = train_values[:,-2]\n",
    "y_test = test_values[:,-2]\n",
    "\n",
    "y_train1 = to_categorical(y_train)\n",
    "y_test1 = to_categorical(y_test)"
   ]
  },
  {
   "cell_type": "markdown",
   "metadata": {
    "id": "--l7xBnGaCAd"
   },
   "source": [
    "### Create a performance metrics function"
   ]
  },
  {
   "cell_type": "code",
   "execution_count": 5,
   "metadata": {
    "id": "QUDUyxFraGsf"
   },
   "outputs": [],
   "source": [
    "def showResults(test, pred, model_name):\n",
    "    accuracy = accuracy_score(test, pred)\n",
    "    precision= precision_score(test, pred, average='macro')\n",
    "    recall = recall_score(test, pred, average = 'macro')\n",
    "    f1score_macro = f1_score(test, pred, average='macro') \n",
    "    f1score_micro = f1_score(test, pred, average='micro') \n",
    "    print(\"Accuracy  : {}\".format(accuracy))\n",
    "    print(\"Precision : {}\".format(precision))\n",
    "    print(\"Recall : {}\".format(recall))\n",
    "    print(\"f1score macro : {}\".format(f1score_macro))\n",
    "    print(\"f1score micro : {}\".format(f1score_micro))\n",
    "    cm=confusion_matrix(test, pred, labels=[1,2,3,4,5,6,7,8])\n",
    "    return (model_name, round(accuracy,3), round(precision,3) , round(recall,3) , round(f1score_macro,3), \n",
    "            round(f1score_micro, 3), cm)"
   ]
  },
  {
   "cell_type": "markdown",
   "metadata": {
    "id": "qOkJZnBLcZkE"
   },
   "source": [
    "### Build the LSTM architecture and train the model"
   ]
  },
  {
   "cell_type": "code",
   "execution_count": 6,
   "metadata": {
    "colab": {
     "base_uri": "https://localhost:8080/"
    },
    "id": "D_uCzMJSbu-G",
    "outputId": "f3f1dda4-14e0-4b28-b9d0-08fce2da4cc9"
   },
   "outputs": [
    {
     "name": "stdout",
     "output_type": "stream",
     "text": [
      "Model: \"sequential_1\"\n",
      "_________________________________________________________________\n",
      "Layer (type)                 Output Shape              Param #   \n",
      "=================================================================\n",
      "lstm (LSTM)                  (None, 275, 128)          66560     \n",
      "_________________________________________________________________\n",
      "lstm_1 (LSTM)                (None, 275, 9)            4968      \n",
      "_________________________________________________________________\n",
      "max_pooling1d (MaxPooling1D) (None, 69, 9)             0         \n",
      "_________________________________________________________________\n",
      "flatten (Flatten)            (None, 621)               0         \n",
      "_________________________________________________________________\n",
      "dense (Dense)                (None, 256)               159232    \n",
      "_________________________________________________________________\n",
      "dense_1 (Dense)              (None, 128)               32896     \n",
      "_________________________________________________________________\n",
      "dense_2 (Dense)              (None, 32)                4128      \n",
      "_________________________________________________________________\n",
      "dense_3 (Dense)              (None, 9)                 297       \n",
      "=================================================================\n",
      "Total params: 268,081\n",
      "Trainable params: 268,081\n",
      "Non-trainable params: 0\n",
      "_________________________________________________________________\n",
      "Train on 165049 samples, validate on 41263 samples\n",
      "Epoch 1/10\n",
      "165049/165049 [==============================] - ETA: 0s - loss: 0.2125 - accuracy: 0.9324"
     ]
    },
    {
     "name": "stderr",
     "output_type": "stream",
     "text": [
      "C:\\Program Files\\Python38\\lib\\site-packages\\tensorflow\\python\\keras\\engine\\training.py:2426: UserWarning: `Model.state_updates` will be removed in a future version. This property should not be used in TensorFlow 2.0, as `updates` are applied automatically.\n",
      "  warnings.warn('`Model.state_updates` will be removed in a future version. '\n"
     ]
    },
    {
     "name": "stdout",
     "output_type": "stream",
     "text": [
      "165049/165049 [==============================] - 850s 5ms/sample - loss: 0.2125 - accuracy: 0.9324 - val_loss: 0.0743 - val_accuracy: 0.9754\n",
      "Epoch 2/10\n",
      "165049/165049 [==============================] - 988s 6ms/sample - loss: 0.0585 - accuracy: 0.9812 - val_loss: 0.0491 - val_accuracy: 0.9845\n",
      "Epoch 3/10\n",
      "165049/165049 [==============================] - 988s 6ms/sample - loss: 0.0377 - accuracy: 0.9878 - val_loss: 0.0383 - val_accuracy: 0.9877\n",
      "Epoch 4/10\n",
      "165049/165049 [==============================] - 989s 6ms/sample - loss: 0.0283 - accuracy: 0.9909 - val_loss: 0.0284 - val_accuracy: 0.9907\n",
      "Epoch 5/10\n",
      "165049/165049 [==============================] - 981s 6ms/sample - loss: 0.0239 - accuracy: 0.9922 - val_loss: 0.0284 - val_accuracy: 0.9913\n",
      "Epoch 6/10\n",
      "165049/165049 [==============================] - 991s 6ms/sample - loss: 0.0184 - accuracy: 0.9939 - val_loss: 0.0188 - val_accuracy: 0.9931\n",
      "Epoch 7/10\n",
      "165049/165049 [==============================] - 988s 6ms/sample - loss: 0.0190 - accuracy: 0.9939 - val_loss: 0.0233 - val_accuracy: 0.9927\n",
      "Epoch 8/10\n",
      "165049/165049 [==============================] - 985s 6ms/sample - loss: 0.0164 - accuracy: 0.9945 - val_loss: 0.0242 - val_accuracy: 0.9933\n",
      "Epoch 9/10\n",
      "165049/165049 [==============================] - 979s 6ms/sample - loss: 0.0139 - accuracy: 0.9956 - val_loss: 0.0177 - val_accuracy: 0.9951\n",
      "Epoch 10/10\n",
      "165049/165049 [==============================] - 977s 6ms/sample - loss: 0.0125 - accuracy: 0.9960 - val_loss: 0.0299 - val_accuracy: 0.9921\n"
     ]
    }
   ],
   "source": [
    "tf.compat.v1.disable_eager_execution()\n",
    "\n",
    "verbose, epoch, batch_size = 1, 10, 256\n",
    "activationFunction='relu'\n",
    "\n",
    "def getlstmModel():\n",
    "    \n",
    "    lstmmodel = Sequential()\n",
    "    lstmmodel.add(LSTM(128, return_sequences=True, input_shape=(X_train1.shape[1],X_train1.shape[2])))\n",
    "    lstmmodel.add(LSTM(9, return_sequences=True))\n",
    "    lstmmodel.add(MaxPooling1D(pool_size=4,padding='same'))\n",
    "    lstmmodel.add(Flatten())\n",
    "    lstmmodel.add(Dense(256, activation=tf.nn.relu))    \n",
    "    lstmmodel.add(Dense(128, activation=tf.nn.relu))    \n",
    "    lstmmodel.add(Dense(32, activation=tf.nn.relu))\n",
    "    lstmmodel.add(Dense(9, activation='softmax'))\n",
    "    lstmmodel.compile(optimizer='adam', loss='categorical_crossentropy',metrics=['accuracy'])\n",
    "    lstmmodel.summary()\n",
    "    return lstmmodel\n",
    "\n",
    "lstmmodel = getlstmModel()\n",
    "\n",
    "lstmhistory= lstmmodel.fit(X_train1, y_train1, epochs=epoch, verbose=verbose, validation_split=0.2, batch_size = batch_size)\n",
    "lstmpredictions = lstmmodel.predict(X_test1, verbose=1)"
   ]
  },
  {
   "cell_type": "code",
   "execution_count": 7,
   "metadata": {
    "colab": {
     "base_uri": "https://localhost:8080/",
     "height": 976
    },
    "id": "XIHz0WEEL70J",
    "outputId": "edb0dd99-2778-4588-bfc3-1220946d0f80"
   },
   "outputs": [],
   "source": [
    "# Save the model so we can visualize it with Netron (https://github.com/lutzroeder/netron):\n",
    "tf.keras.models.save_model(lstmmodel, 'lstmmodel_module2.h5')"
   ]
  },
  {
   "cell_type": "markdown",
   "metadata": {
    "id": "sbPzd_Bd1DTU"
   },
   "source": [
    "### LSTM Loss vs Accuracy Plot"
   ]
  },
  {
   "cell_type": "code",
   "execution_count": 8,
   "metadata": {
    "colab": {
     "base_uri": "https://localhost:8080/",
     "height": 585
    },
    "id": "9IzkPHQd1Fr6",
    "outputId": "8ee5ef84-226e-4229-cd8c-b6c3995bf41b"
   },
   "outputs": [
    {
     "data": {
      "image/png": "[encoded data removed]",
      "text/plain": [
       "<Figure size 1080x360 with 2 Axes>"
      ]
     },
     "metadata": {
      "needs_background": "light"
     },
     "output_type": "display_data"
    }
   ],
   "source": [
    "fig, ax = plt.subplots(1, 2, figsize = (15, 5))\n",
    "ax[0].plot(lstmhistory.history['loss'])\n",
    "ax[0].plot(lstmhistory.history['val_loss'])\n",
    "ax[0].set_title('model loss')\n",
    "ax[0].set_ylabel('loss')\n",
    "ax[0].set_xlabel('epoch')\n",
    "ax[0].legend(['train', 'val'], loc='upper right')\n",
    "ax[1].plot(lstmhistory.history['accuracy'])\n",
    "ax[1].plot(lstmhistory.history['val_accuracy'])\n",
    "ax[1].set_title('model accuracy')\n",
    "ax[1].set_ylabel('accuracy')\n",
    "ax[1].set_xlabel('epoch')\n",
    "ax[1].legend(['train', 'val'], loc='upper left')\n",
    "plt.show()\n",
    "fig.savefig('lstm_leaveout_patients_loss_and_accuracy.jpg')"
   ]
  },
  {
   "cell_type": "markdown",
   "metadata": {
    "id": "0bFB02Tud-A4"
   },
   "source": [
    "### LSTM Performance Metrics"
   ]
  },
  {
   "cell_type": "code",
   "execution_count": 9,
   "metadata": {
    "colab": {
     "base_uri": "https://localhost:8080/",
     "height": 875
    },
    "id": "lKfa3WtieCjx",
    "outputId": "263702e7-1ed1-4f58-dd9c-83273c3dc2d7"
   },
   "outputs": [
    {
     "name": "stderr",
     "output_type": "stream",
     "text": [
      "C:\\Program Files\\Python38\\lib\\site-packages\\sklearn\\metrics\\_classification.py:1221: UndefinedMetricWarning: Recall is ill-defined and being set to 0.0 in labels with no true samples. Use `zero_division` parameter to control this behavior.\n",
      "  _warn_prf(average, modifier, msg_start, len(result))\n",
      "C:\\Program Files\\Python38\\lib\\site-packages\\sklearn\\metrics\\_classification.py:1221: UndefinedMetricWarning: Recall and F-score are ill-defined and being set to 0.0 in labels with no true samples. Use `zero_division` parameter to control this behavior.\n",
      "  _warn_prf(average, modifier, msg_start, len(result))\n"
     ]
    },
    {
     "name": "stdout",
     "output_type": "stream",
     "text": [
      "Accuracy  : 0.974547983310153\n",
      "Precision : 0.5845396842052822\n",
      "Recall : 0.6182878690050229\n",
      "f1score macro : 0.6000850453769035\n",
      "f1score micro : 0.974547983310153\n"
     ]
    },
    {
     "data": {
      "image/png": "[encoded data removed]",
      "text/plain": [
       "<Figure size 576x432 with 2 Axes>"
      ]
     },
     "metadata": {
      "needs_background": "light"
     },
     "output_type": "display_data"
    }
   ],
   "source": [
    "lstm_predict=np.argmax(lstmpredictions,axis=1)\n",
    "lstm_actual_value=np.argmax(y_test1,axis=1)\n",
    "lstm_results = showResults(lstm_actual_value, lstm_predict,'LSTM')\n",
    "lstmmetrics = metrics.classification_report(lstm_actual_value, lstm_predict, digits=3)\n",
    "\n",
    "categories=['N','L','R','V','A','F','f','/']\n",
    "fig = plt.figure(figsize=(8,6))\n",
    "cm = confusion_matrix(lstm_actual_value, lstm_predict, normalize='true')\n",
    "sns.heatmap(cm, annot=True, xticklabels=categories, yticklabels=categories)\n",
    "plt.title('LSTM Confusion Matrix')\n",
    "plt.show()\n",
    "fig.savefig('lstm_leaveout_patients_confusion_matrix_and_metrics_a.jpg', dpi = 400)"
   ]
  },
  {
   "cell_type": "code",
   "execution_count": 10,
   "metadata": {
    "colab": {
     "base_uri": "https://localhost:8080/",
     "height": 435
    },
    "id": "ItmEyFL5jfr9",
    "outputId": "e64d2d15-b937-4d30-d22a-8e5a24226236"
   },
   "outputs": [
    {
     "data": {
      "image/png": "[encoded data removed]",
      "text/plain": [
       "<Figure size 288x432 with 1 Axes>"
      ]
     },
     "metadata": {
      "needs_background": "light"
     },
     "output_type": "display_data"
    }
   ],
   "source": [
    "# performance metrics\n",
    "LSTM_results = pd.DataFrame(data=lstm_results,index=('Model','Accuracy','Precision','Recall','F1score (macro)', 'F1score (micro)','CM'))\n",
    "fig = plt.figure(figsize=(4,6))\n",
    "LSTM_results[0][1:6].plot(kind='bar')\n",
    "plt.show()\n",
    "fig.tight_layout()\n",
    "fig.savefig('lstm_leaveout_patients_confusion_matrix_and_metrics_b.jpg', dpi = 400)"
   ]
  },
  {
   "cell_type": "markdown",
   "metadata": {
    "id": "L3GuCA0nedLB"
   },
   "source": [
    "### Save LSTM model, model weights and results"
   ]
  },
  {
   "cell_type": "code",
   "execution_count": 12,
   "metadata": {
    "colab": {
     "base_uri": "https://localhost:8080/"
    },
    "id": "kaSXu8RbeE-B",
    "outputId": "3bb5c847-4d5d-400c-cfdd-944dadd7e490"
   },
   "outputs": [
    {
     "name": "stdout",
     "output_type": "stream",
     "text": [
      "Saved model to disk\n",
      "                                                                 0\n",
      "Model                                                         LSTM\n",
      "Accuracy                                                     0.975\n",
      "Precision                                                    0.585\n",
      "Recall                                                       0.618\n",
      "F1score (macro)                                                0.6\n",
      "F1score (micro)                                              0.975\n",
      "CM               [[9149, 11, 19, 69, 105, 77, 55, 0], [0, 0, 0,...\n"
     ]
    }
   ],
   "source": [
    "# #serialize weights to HDF5\n",
    "if not os.path.exists('./model_weights/'):\n",
    "    os.mkdir('model_weights')\n",
    "lstmmodel.save(\"./model_weights/lstmmodel_patients.h5\")\n",
    "print(\"Saved model to disk\")\n",
    "\n",
    "#Use only when running on all data\n",
    "LSTM_results = pd.DataFrame(data=lstm_results,index=('Model','Accuracy','Precision','Recall','F1score (macro)', 'F1score (micro)','CM'))\n",
    "print(LSTM_results)\n",
    "\n",
    "if not os.path.exists('./model_results/'):\n",
    "    os.mkdir('model_results')\n",
    "LSTM_results.to_csv('./model_results/lstm_patients_results.csv', encoding='utf-8', index=False)"
   ]
  }
 ],
 "metadata": {
  "accelerator": "GPU",
  "colab": {
   "collapsed_sections": [],
   "name": "LSTM_leaveout_patients_validation.ipynb",
   "provenance": []
  },
  "kernelspec": {
   "display_name": "Python 3",
   "language": "python",
   "name": "python3"
  },
  "language_info": {
   "codemirror_mode": {
    "name": "ipython",
    "version": 3
   },
   "file_extension": ".py",
   "mimetype": "text/x-python",
   "name": "python",
   "nbconvert_exporter": "python",
   "pygments_lexer": "ipython3",
   "version": "3.8.6"
  }
 },
 "nbformat": 4,
 "nbformat_minor": 4
}
