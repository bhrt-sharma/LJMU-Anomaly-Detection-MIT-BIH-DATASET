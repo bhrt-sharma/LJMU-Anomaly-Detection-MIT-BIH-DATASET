{
 "cells": [
  {
   "cell_type": "markdown",
   "metadata": {
    "colab": {
     "base_uri": "https://localhost:8080/"
    },
    "id": "O3Llde3zFlVr",
    "outputId": "40ca75d0-9926-420b-f182-9b0f415f452c"
   },
   "source": [
    "# Classification of beats using a CNN model and the holdout beats validation protocol"
   ]
  },
  {
   "cell_type": "code",
   "execution_count": 1,
   "metadata": {
    "id": "NVdEZoYZcDOy"
   },
   "outputs": [],
   "source": [
    "# Imports:\n",
    "import numpy as np\n",
    "import glob\n",
    "import matplotlib.pyplot as plt\n",
    "import pandas as pd\n",
    "from scipy import *\n",
    "import os\n",
    "import seaborn as sns\n",
    "from sklearn import *\n",
    "from sklearn.metrics import *\n",
    "import tensorflow as tf\n",
    "from tensorflow.keras.models import Sequential\n",
    "from tensorflow.keras.layers import Dense, BatchNormalization\n",
    "from tensorflow.keras.models import Model\n",
    "from tensorflow.keras.utils import to_categorical\n",
    "from tensorflow.keras.layers import Dropout\n",
    "from tensorflow.keras.layers import Flatten\n",
    "from tensorflow.keras.layers import Conv1D\n",
    "from tensorflow.keras.layers import MaxPooling1D\n",
    "\n",
    "length = 277"
   ]
  },
  {
   "cell_type": "markdown",
   "metadata": {
    "id": "BzJUSTdSZazl"
   },
   "source": [
    "### Extract task-specific data and one-hot encode labels"
   ]
  },
  {
   "cell_type": "code",
   "execution_count": 23,
   "metadata": {
    "colab": {
     "base_uri": "https://localhost:8080/"
    },
    "id": "L9tsy-_rYkcn",
    "outputId": "b321c431-ce61-4f2a-d60a-5e47b16499ff"
   },
   "outputs": [
    {
     "name": "stdout",
     "output_type": "stream",
     "text": [
      "Loading  ./train_beats.csv\n",
      "Loading  ./test_beats.csv\n",
      "(31912, 277)\n",
      "(37863, 277)\n"
     ]
    }
   ],
   "source": [
    "# Load the training and testing data:\n",
    "train_values = np.empty(shape=[0, length])\n",
    "test_values = np.empty(shape=[0, length])\n",
    "\n",
    "train_beats = glob.glob('./train_beats.csv')\n",
    "test_beats = glob.glob('./test_beats.csv')\n",
    "\n",
    "for j in train_beats:\n",
    "    print('Loading ', j)\n",
    "    csvrows = np.loadtxt(j, delimiter=',')\n",
    "    train_values = np.append(train_values, csvrows, axis=0)\n",
    "\n",
    "for j in test_beats:\n",
    "    print('Loading ', j)\n",
    "    csvrows = np.loadtxt(j, delimiter=',')\n",
    "    test_values = np.append(test_values, csvrows, axis=0)\n",
    "    \n",
    "print(train_values.shape)\n",
    "print(test_values.shape)\n",
    "\n",
    "# Separate the training and testing data, and one-hot encode Y:\n",
    "X_train = train_values[:,:-2]\n",
    "X_test = test_values[:,:-2]\n",
    "\n",
    "X_train1 = X_train.reshape(-1, X_train.shape[1], 1)\n",
    "X_test1 = X_test.reshape(-1, X_train.shape[1], 1)\n",
    "\n",
    "y_train = train_values[:,-2]\n",
    "y_test = test_values[:,-2]\n",
    "\n",
    "y_train1 = to_categorical(y_train)\n",
    "y_test1 = to_categorical(y_test)"
   ]
  },
  {
   "cell_type": "markdown",
   "metadata": {
    "id": "--l7xBnGaCAd"
   },
   "source": [
    "### Create a performance metrics function"
   ]
  },
  {
   "cell_type": "code",
   "execution_count": 4,
   "metadata": {
    "id": "QUDUyxFraGsf"
   },
   "outputs": [],
   "source": [
    "def showResults(test, pred, model_name):\n",
    "    accuracy = accuracy_score(test, pred)\n",
    "    precision= precision_score(test, pred, average='macro')\n",
    "    recall = recall_score(test, pred, average = 'macro')\n",
    "    f1score_macro = f1_score(test, pred, average='macro') \n",
    "    f1score_micro = f1_score(test, pred, average='micro') \n",
    "    print(\"Accuracy  : {}\".format(accuracy))\n",
    "    print(\"Precision : {}\".format(precision))\n",
    "    print(\"Recall : {}\".format(recall))\n",
    "    print(\"f1score macro : {}\".format(f1score_macro))\n",
    "    print(\"f1score micro : {}\".format(f1score_micro))\n",
    "    cm=confusion_matrix(test, pred, labels=[1,2,3,4,5,6,7,8])\n",
    "    return (model_name, round(accuracy,3), round(precision,3) , round(recall,3) , round(f1score_macro,3), \n",
    "            round(f1score_micro, 3), cm)"
   ]
  },
  {
   "cell_type": "markdown",
   "metadata": {
    "id": "u43ZW2Q2aI8a"
   },
   "source": [
    "### Build the CNN architecture and train the model"
   ]
  },
  {
   "cell_type": "code",
   "execution_count": 7,
   "metadata": {
    "colab": {
     "base_uri": "https://localhost:8080/"
    },
    "id": "GhS7Yr4paMy0",
    "outputId": "eb07cf0c-883d-4a6a-a53b-c17752f491b2"
   },
   "outputs": [
    {
     "name": "stdout",
     "output_type": "stream",
     "text": [
      "WARNING:tensorflow:From C:\\Program Files\\Python38\\lib\\site-packages\\tensorflow\\python\\keras\\layers\\normalization.py:534: _colocate_with (from tensorflow.python.framework.ops) is deprecated and will be removed in a future version.\n",
      "Instructions for updating:\n",
      "Colocations handled automatically by placer.\n",
      "Model: \"sequential_1\"\n",
      "_________________________________________________________________\n",
      "Layer (type)                 Output Shape              Param #   \n",
      "=================================================================\n",
      "conv1d (Conv1D)              (None, 275, 128)          2176      \n",
      "_________________________________________________________________\n",
      "batch_normalization (BatchNo (None, 275, 128)          512       \n",
      "_________________________________________________________________\n",
      "conv1d_1 (Conv1D)            (None, 275, 32)           65568     \n",
      "_________________________________________________________________\n",
      "batch_normalization_1 (Batch (None, 275, 32)           128       \n",
      "_________________________________________________________________\n",
      "conv1d_2 (Conv1D)            (None, 275, 9)            4617      \n",
      "_________________________________________________________________\n",
      "max_pooling1d (MaxPooling1D) (None, 69, 9)             0         \n",
      "_________________________________________________________________\n",
      "flatten (Flatten)            (None, 621)               0         \n",
      "_________________________________________________________________\n",
      "dense (Dense)                (None, 256)               159232    \n",
      "_________________________________________________________________\n",
      "dense_1 (Dense)              (None, 128)               32896     \n",
      "_________________________________________________________________\n",
      "dense_2 (Dense)              (None, 32)                4128      \n",
      "_________________________________________________________________\n",
      "dense_3 (Dense)              (None, 9)                 297       \n",
      "=================================================================\n",
      "Total params: 269,554\n",
      "Trainable params: 269,234\n",
      "Non-trainable params: 320\n",
      "_________________________________________________________________\n",
      "Train on 25529 samples, validate on 6383 samples\n",
      "Epoch 1/10\n",
      "25529/25529 [==============================] - ETA: 0s - loss: 0.3028 - accuracy: 0.9021"
     ]
    },
    {
     "name": "stderr",
     "output_type": "stream",
     "text": [
      "C:\\Program Files\\Python38\\lib\\site-packages\\tensorflow\\python\\keras\\engine\\training.py:2426: UserWarning: `Model.state_updates` will be removed in a future version. This property should not be used in TensorFlow 2.0, as `updates` are applied automatically.\n",
      "  warnings.warn('`Model.state_updates` will be removed in a future version. '\n"
     ]
    },
    {
     "name": "stdout",
     "output_type": "stream",
     "text": [
      "25529/25529 [==============================] - 35s 1ms/sample - loss: 0.3028 - accuracy: 0.9021 - val_loss: 0.3414 - val_accuracy: 0.8856\n",
      "Epoch 2/10\n",
      "25529/25529 [==============================] - 36s 1ms/sample - loss: 0.1155 - accuracy: 0.9624 - val_loss: 0.1073 - val_accuracy: 0.9684\n",
      "Epoch 3/10\n",
      "25529/25529 [==============================] - 36s 1ms/sample - loss: 0.0786 - accuracy: 0.9727 - val_loss: 0.1025 - val_accuracy: 0.9666\n",
      "Epoch 4/10\n",
      "25529/25529 [==============================] - 37s 1ms/sample - loss: 0.0620 - accuracy: 0.9796 - val_loss: 0.1064 - val_accuracy: 0.9693\n",
      "Epoch 5/10\n",
      "25529/25529 [==============================] - 37s 1ms/sample - loss: 0.0477 - accuracy: 0.9839 - val_loss: 0.0986 - val_accuracy: 0.9715\n",
      "Epoch 6/10\n",
      "25529/25529 [==============================] - 38s 1ms/sample - loss: 0.0458 - accuracy: 0.9844 - val_loss: 0.0917 - val_accuracy: 0.9754\n",
      "Epoch 7/10\n",
      "25529/25529 [==============================] - 37s 1ms/sample - loss: 0.0376 - accuracy: 0.9875 - val_loss: 0.1228 - val_accuracy: 0.9657\n",
      "Epoch 8/10\n",
      "25529/25529 [==============================] - 37s 1ms/sample - loss: 0.0368 - accuracy: 0.9874 - val_loss: 0.0866 - val_accuracy: 0.9790\n",
      "Epoch 9/10\n",
      "25529/25529 [==============================] - 36s 1ms/sample - loss: 0.0318 - accuracy: 0.9895 - val_loss: 0.0780 - val_accuracy: 0.9781\n",
      "Epoch 10/10\n",
      "25529/25529 [==============================] - 37s 1ms/sample - loss: 0.0323 - accuracy: 0.9892 - val_loss: 0.0790 - val_accuracy: 0.9804\n"
     ]
    }
   ],
   "source": [
    "tf.compat.v1.disable_eager_execution()\n",
    "\n",
    "verbose, epoch, batch_size = 1, 10, 64\n",
    "activationFunction='relu'\n",
    "\n",
    "def getModel():\n",
    "    \n",
    "    cnnmodel = Sequential()\n",
    "    cnnmodel.add(Conv1D(filters=128, kernel_size=16,padding='same', activation='relu',input_shape=(X_train1.shape[1],X_train1.shape[2])))\n",
    "    cnnmodel.add(BatchNormalization())\n",
    "    cnnmodel.add(Conv1D(filters=32, kernel_size=16,padding='same', activation='relu'))\n",
    "    cnnmodel.add(BatchNormalization())\n",
    "    cnnmodel.add(Conv1D(filters=9, kernel_size=16,padding='same', activation='relu'))\n",
    "    cnnmodel.add(MaxPooling1D(pool_size=4,padding='same'))\n",
    "    cnnmodel.add(Flatten())\n",
    "    cnnmodel.add(Dense(256, activation='relu'))\n",
    "    cnnmodel.add(Dense(128, activation='relu'))\n",
    "    cnnmodel.add(Dense(32, activation='relu'))\n",
    "    cnnmodel.add(Dense(9, activation='softmax'))\n",
    "    cnnmodel.compile(optimizer='adam', loss='categorical_crossentropy',metrics=['accuracy'])\n",
    "    cnnmodel.summary()\n",
    "    return cnnmodel\n",
    "\n",
    "cnnmodel = getModel()\n",
    "\n",
    "cnnhistory= cnnmodel.fit(X_train1, y_train1, epochs=epoch, verbose=verbose, validation_split=0.2, batch_size = batch_size)\n",
    "cnnpredictions = cnnmodel.predict(X_test1, verbose=1)"
   ]
  },
  {
   "cell_type": "code",
   "execution_count": 8,
   "metadata": {},
   "outputs": [],
   "source": [
    "# Save the model so we can visualize it with Netron (https://github.com/lutzroeder/netron):\n",
    "tf.keras.models.save_model(cnnmodel, 'cnnmodel_module2.h5')"
   ]
  },
  {
   "cell_type": "markdown",
   "metadata": {
    "id": "vi8HH_jT0up0"
   },
   "source": [
    "### CNN Loss vs Accuracy Plot"
   ]
  },
  {
   "cell_type": "code",
   "execution_count": 17,
   "metadata": {
    "colab": {
     "base_uri": "https://localhost:8080/",
     "height": 585
    },
    "id": "wgBTcLpg0yZu",
    "outputId": "56126f91-6f91-4e3f-b004-a98b85032e72"
   },
   "outputs": [
    {
     "data": {
      "image/png": "[encoded data removed]",
      "text/plain": [
       "<Figure size 1080x360 with 2 Axes>"
      ]
     },
     "metadata": {
      "needs_background": "light"
     },
     "output_type": "display_data"
    }
   ],
   "source": [
    "fig, ax = plt.subplots(1, 2, figsize = (15, 5))\n",
    "ax[0].plot(cnnhistory.history['loss'])\n",
    "ax[0].plot(cnnhistory.history['val_loss'])\n",
    "ax[0].set_title('model loss')\n",
    "ax[0].set_ylabel('loss')\n",
    "ax[0].set_xlabel('epoch')\n",
    "ax[0].legend(['train', 'val'], loc='upper right')\n",
    "ax[1].plot(cnnhistory.history['accuracy'])\n",
    "ax[1].plot(cnnhistory.history['val_accuracy'])\n",
    "ax[1].set_title('model accuracy')\n",
    "ax[1].set_ylabel('accuracy')\n",
    "ax[1].set_xlabel('epoch')\n",
    "ax[1].legend(['train', 'val'], loc='upper left')\n",
    "plt.show()\n",
    "fig.savefig('cnn_holdout_beats_loss_and_accuracy.jpg')"
   ]
  },
  {
   "cell_type": "markdown",
   "metadata": {
    "id": "kPNwlQhdaUq1"
   },
   "source": [
    "### CNN Performance Metrics"
   ]
  },
  {
   "cell_type": "code",
   "execution_count": 19,
   "metadata": {
    "colab": {
     "base_uri": "https://localhost:8080/",
     "height": 744
    },
    "id": "iJKuEnx2aW2I",
    "outputId": "5a689e34-72ff-4023-e8a9-5976f31251f2"
   },
   "outputs": [
    {
     "name": "stdout",
     "output_type": "stream",
     "text": [
      "Accuracy  : 0.9577952090431292\n",
      "Precision : 0.823450364108335\n",
      "Recall : 0.9616945753915673\n",
      "f1score macro : 0.8762522102963899\n",
      "f1score micro : 0.9577952090431292\n"
     ]
    },
    {
     "data": {
      "image/png": "[encoded data removed]",
      "text/plain": [
       "<Figure size 576x432 with 2 Axes>"
      ]
     },
     "metadata": {
      "needs_background": "light"
     },
     "output_type": "display_data"
    }
   ],
   "source": [
    "cnn_predict=np.argmax(cnnpredictions,axis=1)\n",
    "cnn_actual_value=np.argmax(y_test1,axis=1)\n",
    "cnn_results = showResults(cnn_actual_value, cnn_predict,'CNN')\n",
    "\n",
    "cnnmetrics = metrics.classification_report(cnn_actual_value, cnn_predict, digits=3)\n",
    "\n",
    "categories=['N','L','R','V','A','F','f','/']\n",
    "fig = plt.figure(figsize=(8,6))\n",
    "cm = confusion_matrix(cnn_actual_value, cnn_predict, normalize='true')\n",
    "sns.heatmap(cm, annot=True, xticklabels=categories, yticklabels=categories)\n",
    "plt.title('CNN Confusion Matrix')\n",
    "plt.show()\n",
    "fig.savefig('cnn_holdout_beats_confusion_matrix_and_metrics_a.jpg', dpi = 400)"
   ]
  },
  {
   "cell_type": "code",
   "execution_count": 20,
   "metadata": {
    "colab": {
     "base_uri": "https://localhost:8080/",
     "height": 437
    },
    "id": "TilubLSSi0L5",
    "outputId": "bf18f3c0-5b56-44ef-95c0-0f9734b2d706"
   },
   "outputs": [
    {
     "data": {
      "image/png": "[encoded data removed]",
      "text/plain": [
       "<Figure size 288x432 with 1 Axes>"
      ]
     },
     "metadata": {
      "needs_background": "light"
     },
     "output_type": "display_data"
    }
   ],
   "source": [
    "# performance metrics\n",
    "CNN_results = pd.DataFrame(data=(cnn_results),index=('Model','Accuracy','Precision','Recall','F1score (macro)', 'F1score (micro)','CM'))\n",
    "fig = plt.figure(figsize=(4,6))\n",
    "CNN_results[0][1:6].plot(kind='bar')\n",
    "plt.show()\n",
    "fig.tight_layout()\n",
    "fig.savefig('cnn_holdout_beats_confusion_matrix_and_metrics_b.jpg', dpi = 400)"
   ]
  },
  {
   "cell_type": "markdown",
   "metadata": {
    "id": "4688E8fybom-"
   },
   "source": [
    "### Save CNN Model, Model weights and results"
   ]
  },
  {
   "cell_type": "code",
   "execution_count": 22,
   "metadata": {
    "colab": {
     "base_uri": "https://localhost:8080/"
    },
    "id": "9VBYWonJaYT3",
    "outputId": "29854ce6-151a-41df-95ef-e0aea8eaef45"
   },
   "outputs": [
    {
     "name": "stdout",
     "output_type": "stream",
     "text": [
      "Saved model to disk\n",
      "                                                                 0\n",
      "Model                                                          CNN\n",
      "Accuracy                                                     0.958\n",
      "Precision                                                    0.823\n",
      "Recall                                                       0.962\n",
      "F1score (macro)                                              0.876\n",
      "F1score (micro)                                              0.958\n",
      "CM               [[27282, 68, 17, 282, 864, 95, 80, 15], [2, 16...\n"
     ]
    }
   ],
   "source": [
    "# #serialize weights to HDF5\n",
    "if not os.path.exists('./model_weights/'):\n",
    "    os.mkdir('model_weights')\n",
    "cnnmodel.save(\"./model_weights/cnnmodel_beats.h5\")\n",
    "print(\"Saved model to disk\")\n",
    "\n",
    "#Use only when running on all data\n",
    "CNN_results = pd.DataFrame(data=cnn_results,index=('Model','Accuracy','Precision','Recall','F1score (macro)', 'F1score (micro)','CM'))\n",
    "print(CNN_results)\n",
    "\n",
    "if not os.path.exists('./model_results/'):\n",
    "    os.mkdir('model_results')\n",
    "CNN_results.to_csv('./model_results/cnn_beats_results.csv', encoding='utf-8', index=False)"
   ]
  }
 ],
 "metadata": {
  "accelerator": "GPU",
  "colab": {
   "collapsed_sections": [],
   "name": "CNN_holdout_beats_validation.ipynb",
   "provenance": []
  },
  "kernelspec": {
   "display_name": "Python 3 (ipykernel)",
   "language": "python",
   "name": "python3"
  },
  "language_info": {
   "codemirror_mode": {
    "name": "ipython",
    "version": 3
   },
   "file_extension": ".py",
   "mimetype": "text/x-python",
   "name": "python",
   "nbconvert_exporter": "python",
   "pygments_lexer": "ipython3",
   "version": "3.10.10"
  }
 },
 "nbformat": 4,
 "nbformat_minor": 4
}
