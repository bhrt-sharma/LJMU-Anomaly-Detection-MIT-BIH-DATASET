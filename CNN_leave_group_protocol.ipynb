{
 "cells": [
  {
   "cell_type": "markdown",
   "metadata": {},
   "source": [
    "# Classification of beats using a CNN model and the leave out patients validation protocol"
   ]
  },
  {
   "cell_type": "code",
   "execution_count": 1,
   "metadata": {
    "id": "NVdEZoYZcDOy"
   },
   "outputs": [],
   "source": [
    "import numpy as np\n",
    "import glob\n",
    "import matplotlib.pyplot as plt\n",
    "import pandas as pd\n",
    "from scipy import *\n",
    "import os\n",
    "import seaborn as sns\n",
    "from sklearn import *\n",
    "from sklearn.metrics import *\n",
    "import tensorflow as tf\n",
    "from tensorflow.keras.models import Sequential\n",
    "from tensorflow.keras.layers import Dense, BatchNormalization\n",
    "from tensorflow.keras.models import Model\n",
    "from tensorflow.keras.utils import to_categorical\n",
    "from tensorflow.keras.layers import Dropout\n",
    "from tensorflow.keras.layers import Flatten\n",
    "from tensorflow.keras.layers import Conv1D\n",
    "from tensorflow.keras.layers import MaxPooling1D\n",
    "length = 277"
   ]
  },
  {
   "cell_type": "markdown",
   "metadata": {
    "id": "ahZv1oeYZrK4"
   },
   "source": [
    "### Extract task-specific data and one-hot encode labels"
   ]
  },
  {
   "cell_type": "code",
   "execution_count": 2,
   "metadata": {
    "colab": {
     "base_uri": "https://localhost:8080/"
    },
    "id": "HJUFmtIWY1ln",
    "outputId": "2a6bbb0b-2a5d-4363-f74a-7607e86cad0b"
   },
   "outputs": [
    {
     "name": "stdout",
     "output_type": "stream",
     "text": [
      "Loading  ../mimic3-code-main/module2_week1/train_patients.csv\n",
      "Loading  ../mimic3-code-main/module2_week1/test_patients.csv\n",
      "(206312, 277)\n",
      "(14380, 277)\n"
     ]
    }
   ],
   "source": [
    "# Load the training and testing data:\n",
    "train_values = np.empty(shape=[0, length])\n",
    "test_values = np.empty(shape=[0, length])\n",
    "\n",
    "train_beats = glob.glob('./train_patients.csv')\n",
    "test_beats = glob.glob('./test_patients.csv')\n",
    "\n",
    "for j in train_beats:\n",
    "    print('Loading ', j)\n",
    "    csvrows = np.loadtxt(j, delimiter=',')\n",
    "    train_values = np.append(train_values, csvrows, axis=0)\n",
    "\n",
    "for j in test_beats:\n",
    "    print('Loading ', j)\n",
    "    csvrows = np.loadtxt(j, delimiter=',')\n",
    "    test_values = np.append(test_values, csvrows, axis=0)\n",
    "    \n",
    "print(train_values.shape)\n",
    "print(test_values.shape)\n",
    "\n",
    "# Separate the training and testing data, and one-hot encode Y:\n",
    "X_train = train_values[:,:-2]\n",
    "X_test = test_values[:,:-2]\n",
    "\n",
    "X_train1 = X_train.reshape(-1, X_train.shape[1], 1)\n",
    "X_test1 = X_test.reshape(-1, X_train.shape[1], 1)\n",
    "\n",
    "y_train = train_values[:,-2]\n",
    "y_test = test_values[:,-2]\n",
    "\n",
    "y_train1 = to_categorical(y_train)\n",
    "y_test1 = to_categorical(y_test)"
   ]
  },
  {
   "cell_type": "markdown",
   "metadata": {
    "id": "--l7xBnGaCAd"
   },
   "source": [
    "### Create a performance metrics function"
   ]
  },
  {
   "cell_type": "code",
   "execution_count": 3,
   "metadata": {
    "id": "QUDUyxFraGsf"
   },
   "outputs": [],
   "source": [
    "def showResults(test, pred, model_name):\n",
    "    accuracy = accuracy_score(test, pred)\n",
    "    precision= precision_score(test, pred, average='macro')\n",
    "    recall = recall_score(test, pred, average = 'macro')\n",
    "    f1score_macro = f1_score(test, pred, average='macro') \n",
    "    f1score_micro = f1_score(test, pred, average='micro') \n",
    "    print(\"Accuracy  : {}\".format(accuracy))\n",
    "    print(\"Precision : {}\".format(precision))\n",
    "    print(\"Recall : {}\".format(recall))\n",
    "    print(\"f1score macro : {}\".format(f1score_macro))\n",
    "    print(\"f1score micro : {}\".format(f1score_micro))\n",
    "    cm=confusion_matrix(test, pred, labels=[1,2,3,4,5,6,7,8])\n",
    "    return (model_name, round(accuracy,3), round(precision,3) , round(recall,3) , round(f1score_macro,3), \n",
    "            round(f1score_micro, 3), cm)"
   ]
  },
  {
   "cell_type": "markdown",
   "metadata": {
    "id": "u43ZW2Q2aI8a"
   },
   "source": [
    "### Build the CNN architecture and train the model"
   ]
  },
  {
   "cell_type": "code",
   "execution_count": 4,
   "metadata": {
    "colab": {
     "base_uri": "https://localhost:8080/"
    },
    "id": "GhS7Yr4paMy0",
    "outputId": "b72cfbd4-e293-47d4-d77e-ad26ba9226e5"
   },
   "outputs": [
    {
     "name": "stdout",
     "output_type": "stream",
     "text": [
      "WARNING:tensorflow:From C:\\Program Files\\Python38\\lib\\site-packages\\tensorflow\\python\\keras\\layers\\normalization.py:534: _colocate_with (from tensorflow.python.framework.ops) is deprecated and will be removed in a future version.\n",
      "Instructions for updating:\n",
      "Colocations handled automatically by placer.\n",
      "Model: \"sequential\"\n",
      "_________________________________________________________________\n",
      "Layer (type)                 Output Shape              Param #   \n",
      "=================================================================\n",
      "conv1d (Conv1D)              (None, 275, 128)          2176      \n",
      "_________________________________________________________________\n",
      "batch_normalization (BatchNo (None, 275, 128)          512       \n",
      "_________________________________________________________________\n",
      "conv1d_1 (Conv1D)            (None, 275, 32)           65568     \n",
      "_________________________________________________________________\n",
      "batch_normalization_1 (Batch (None, 275, 32)           128       \n",
      "_________________________________________________________________\n",
      "conv1d_2 (Conv1D)            (None, 275, 9)            4617      \n",
      "_________________________________________________________________\n",
      "max_pooling1d (MaxPooling1D) (None, 69, 9)             0         \n",
      "_________________________________________________________________\n",
      "flatten (Flatten)            (None, 621)               0         \n",
      "_________________________________________________________________\n",
      "dense (Dense)                (None, 256)               159232    \n",
      "_________________________________________________________________\n",
      "dense_1 (Dense)              (None, 128)               32896     \n",
      "_________________________________________________________________\n",
      "dense_2 (Dense)              (None, 32)                4128      \n",
      "_________________________________________________________________\n",
      "dense_3 (Dense)              (None, 9)                 297       \n",
      "=================================================================\n",
      "Total params: 269,554\n",
      "Trainable params: 269,234\n",
      "Non-trainable params: 320\n",
      "_________________________________________________________________\n",
      "Train on 165049 samples, validate on 41263 samples\n",
      "Epoch 1/10\n",
      "165049/165049 [==============================] - ETA: 0s - loss: 0.1255 - accuracy: 0.9586"
     ]
    },
    {
     "name": "stderr",
     "output_type": "stream",
     "text": [
      "C:\\Program Files\\Python38\\lib\\site-packages\\tensorflow\\python\\keras\\engine\\training.py:2426: UserWarning: `Model.state_updates` will be removed in a future version. This property should not be used in TensorFlow 2.0, as `updates` are applied automatically.\n",
      "  warnings.warn('`Model.state_updates` will be removed in a future version. '\n"
     ]
    },
    {
     "name": "stdout",
     "output_type": "stream",
     "text": [
      "165049/165049 [==============================] - 233s 1ms/sample - loss: 0.1255 - accuracy: 0.9586 - val_loss: 0.0625 - val_accuracy: 0.9778\n",
      "Epoch 2/10\n",
      "165049/165049 [==============================] - 232s 1ms/sample - loss: 0.0489 - accuracy: 0.9836 - val_loss: 0.0469 - val_accuracy: 0.9848\n",
      "Epoch 3/10\n",
      "165049/165049 [==============================] - 235s 1ms/sample - loss: 0.0344 - accuracy: 0.9885 - val_loss: 0.0371 - val_accuracy: 0.9878\n",
      "Epoch 4/10\n",
      "165049/165049 [==============================] - 235s 1ms/sample - loss: 0.0269 - accuracy: 0.9914 - val_loss: 0.0265 - val_accuracy: 0.9907\n",
      "Epoch 5/10\n",
      "165049/165049 [==============================] - 246s 1ms/sample - loss: 0.0221 - accuracy: 0.9930 - val_loss: 0.0265 - val_accuracy: 0.9920\n",
      "Epoch 6/10\n",
      "165049/165049 [==============================] - 264s 2ms/sample - loss: 0.0182 - accuracy: 0.9944 - val_loss: 0.0205 - val_accuracy: 0.9942\n",
      "Epoch 7/10\n",
      "165049/165049 [==============================] - 259s 2ms/sample - loss: 0.0164 - accuracy: 0.9949 - val_loss: 0.0170 - val_accuracy: 0.9951\n",
      "Epoch 8/10\n",
      "165049/165049 [==============================] - 257s 2ms/sample - loss: 0.0139 - accuracy: 0.9957 - val_loss: 0.0194 - val_accuracy: 0.9949\n",
      "Epoch 9/10\n",
      "165049/165049 [==============================] - 259s 2ms/sample - loss: 0.0128 - accuracy: 0.9961 - val_loss: 0.0154 - val_accuracy: 0.9962\n",
      "Epoch 10/10\n",
      "165049/165049 [==============================] - 257s 2ms/sample - loss: 0.0100 - accuracy: 0.9971 - val_loss: 0.0145 - val_accuracy: 0.9970\n"
     ]
    }
   ],
   "source": [
    "tf.compat.v1.disable_eager_execution()\n",
    "\n",
    "verbose, epoch, batch_size = 1, 10, 64\n",
    "activationFunction='relu'\n",
    "\n",
    "def getModel():\n",
    "    \n",
    "    cnnmodel = Sequential()\n",
    "    cnnmodel.add(Conv1D(filters=128, kernel_size=16,padding='same', activation='relu',input_shape=(X_train1.shape[1],X_train1.shape[2])))\n",
    "    cnnmodel.add(BatchNormalization())\n",
    "    cnnmodel.add(Conv1D(filters=32, kernel_size=16,padding='same', activation='relu'))\n",
    "    cnnmodel.add(BatchNormalization())\n",
    "    cnnmodel.add(Conv1D(filters=9, kernel_size=16,padding='same', activation='relu'))\n",
    "    cnnmodel.add(MaxPooling1D(pool_size=4,padding='same'))\n",
    "    cnnmodel.add(Flatten())\n",
    "    cnnmodel.add(Dense(256, activation='relu'))\n",
    "    cnnmodel.add(Dense(128, activation='relu'))\n",
    "    cnnmodel.add(Dense(32, activation='relu'))\n",
    "    cnnmodel.add(Dense(9, activation='softmax'))\n",
    "    cnnmodel.compile(optimizer='adam', loss='categorical_crossentropy',metrics=['accuracy'])\n",
    "    cnnmodel.summary()\n",
    "    return cnnmodel\n",
    "\n",
    "cnnmodel = getModel()\n",
    "\n",
    "cnnhistory= cnnmodel.fit(X_train1, y_train1, epochs=epoch, verbose=verbose, validation_split=0.2, batch_size = batch_size)\n",
    "cnnpredictions = cnnmodel.predict(X_test1, verbose=1)"
   ]
  },
  {
   "cell_type": "code",
   "execution_count": 5,
   "metadata": {},
   "outputs": [],
   "source": [
    "# Save the model so we can visualize it with Netron (https://github.com/lutzroeder/netron):\n",
    "tf.keras.models.save_model(cnnmodel, 'cnnmodel_module2.h5')"
   ]
  },
  {
   "cell_type": "markdown",
   "metadata": {
    "id": "SxY8YNvz080h"
   },
   "source": [
    "### CNN Loss vs Accuracy Plot"
   ]
  },
  {
   "cell_type": "code",
   "execution_count": 6,
   "metadata": {
    "colab": {
     "base_uri": "https://localhost:8080/",
     "height": 585
    },
    "id": "i58-xehT0_Ao",
    "outputId": "e55ed576-9f48-45ce-8d0d-95965a581b38"
   },
   "outputs": [
    {
     "data": {
      "image/png": "[encoded data removed]",
      "text/plain": [
       "<Figure size 1080x360 with 2 Axes>"
      ]
     },
     "metadata": {
      "needs_background": "light"
     },
     "output_type": "display_data"
    }
   ],
   "source": [
    "fig, ax = plt.subplots(1, 2, figsize = (15, 5))\n",
    "ax[0].plot(cnnhistory.history['loss'])\n",
    "ax[0].plot(cnnhistory.history['val_loss'])\n",
    "ax[0].set_title('model loss')\n",
    "ax[0].set_ylabel('loss')\n",
    "ax[0].set_xlabel('epoch')\n",
    "ax[0].legend(['train', 'val'], loc='upper right')\n",
    "ax[1].plot(cnnhistory.history['accuracy'])\n",
    "ax[1].plot(cnnhistory.history['val_accuracy'])\n",
    "ax[1].set_title('model accuracy')\n",
    "ax[1].set_ylabel('accuracy')\n",
    "ax[1].set_xlabel('epoch')\n",
    "ax[1].legend(['train', 'val'], loc='upper left')\n",
    "plt.show()\n",
    "fig.savefig('cnn_leaveout_patients_loss_and_accuracy.jpg')"
   ]
  },
  {
   "cell_type": "markdown",
   "metadata": {
    "id": "kPNwlQhdaUq1"
   },
   "source": [
    "### CNN Performance Metrics"
   ]
  },
  {
   "cell_type": "code",
   "execution_count": 7,
   "metadata": {},
   "outputs": [
    {
     "name": "stderr",
     "output_type": "stream",
     "text": [
      "C:\\Program Files\\Python38\\lib\\site-packages\\sklearn\\metrics\\_classification.py:1221: UndefinedMetricWarning: Recall is ill-defined and being set to 0.0 in labels with no true samples. Use `zero_division` parameter to control this behavior.\n",
      "  _warn_prf(average, modifier, msg_start, len(result))\n",
      "C:\\Program Files\\Python38\\lib\\site-packages\\sklearn\\metrics\\_classification.py:1221: UndefinedMetricWarning: Recall and F-score are ill-defined and being set to 0.0 in labels with no true samples. Use `zero_division` parameter to control this behavior.\n",
      "  _warn_prf(average, modifier, msg_start, len(result))\n"
     ]
    },
    {
     "name": "stdout",
     "output_type": "stream",
     "text": [
      "Accuracy  : 0.9876216968011127\n",
      "Precision : 0.6017989050577904\n",
      "Recall : 0.6216358127609787\n",
      "f1score macro : 0.611306963346361\n",
      "f1score micro : 0.9876216968011126\n"
     ]
    },
    {
     "data": {
      "image/png": "[encoded data removed]",
      "text/plain": [
       "<Figure size 576x432 with 2 Axes>"
      ]
     },
     "metadata": {
      "needs_background": "light"
     },
     "output_type": "display_data"
    }
   ],
   "source": [
    "cnn_predict=np.argmax(cnnpredictions,axis=1)\n",
    "cnn_actual_value=np.argmax(y_test1,axis=1)\n",
    "cnn_results = showResults(cnn_actual_value, cnn_predict,'CNN')\n",
    "\n",
    "cnnmetrics = metrics.classification_report(cnn_actual_value, cnn_predict, digits=3)\n",
    "\n",
    "categories=['N','L','R','V','A','F','f','/']\n",
    "fig = plt.figure(figsize=(8,6))\n",
    "cm = confusion_matrix(cnn_actual_value, cnn_predict, labels = [1, 2, 3, 4, 5, 6, 7, 8], normalize='true')\n",
    "sns.heatmap(cm, annot=True, xticklabels=categories, yticklabels=categories)\n",
    "plt.title('CNN Confusion Matrix')\n",
    "plt.show()\n",
    "fig.savefig('cnn_leaveout_patients_confusion_matrix_and_metrics_a.jpg', dpi = 400)"
   ]
  },
  {
   "cell_type": "code",
   "execution_count": 8,
   "metadata": {},
   "outputs": [
    {
     "data": {
      "image/png": "[encoded data removed]",
      "text/plain": [
       "<Figure size 288x432 with 1 Axes>"
      ]
     },
     "metadata": {
      "needs_background": "light"
     },
     "output_type": "display_data"
    }
   ],
   "source": [
    "# performance metrics\n",
    "CNN_results = pd.DataFrame(data=(cnn_results),index=('Model','Accuracy','Precision','Recall','F1score (macro)', 'F1score (micro)','CM'))\n",
    "fig = plt.figure(figsize=(4,6))\n",
    "CNN_results[0][1:6].plot(kind='bar')\n",
    "plt.show()\n",
    "fig.tight_layout()\n",
    "fig.savefig('cnn_leaveout_patients_confusion_matrix_and_metrics_b.jpg', dpi = 400)"
   ]
  },
  {
   "cell_type": "markdown",
   "metadata": {
    "id": "4688E8fybom-"
   },
   "source": [
    "### Save CNN Model, Model weights and results"
   ]
  },
  {
   "cell_type": "code",
   "execution_count": 11,
   "metadata": {
    "colab": {
     "base_uri": "https://localhost:8080/"
    },
    "id": "9VBYWonJaYT3",
    "outputId": "57f27df2-f10d-4b44-ea51-2f03f15cc15f"
   },
   "outputs": [
    {
     "name": "stdout",
     "output_type": "stream",
     "text": [
      "Saved model to disk\n",
      "                                                                 0\n",
      "Model                                                          CNN\n",
      "Accuracy                                                     0.988\n",
      "Precision                                                    0.602\n",
      "Recall                                                       0.622\n",
      "F1score (macro)                                              0.611\n",
      "F1score (micro)                                              0.988\n",
      "CM               [[9324, 1, 10, 25, 32, 37, 55, 1], [0, 0, 0, 0...\n"
     ]
    }
   ],
   "source": [
    "#serialize weights to HDF5\n",
    "if not os.path.exists('./model_weights/'):\n",
    "    os.mkdir('model_weights')\n",
    "cnnmodel.save(\"./model_weights/cnnmodel_patients.h5\")\n",
    "print(\"Saved model to disk\")\n",
    "\n",
    "#Use only when running on all data\n",
    "CNN_results = pd.DataFrame(data=cnn_results,index=('Model','Accuracy','Precision','Recall','F1score (macro)', 'F1score (micro)','CM'))\n",
    "print(CNN_results)\n",
    "\n",
    "if not os.path.exists('./model_results/'):\n",
    "    os.mkdir('model_results')\n",
    "CNN_results.to_csv('./model_results/cnn_patients_results.csv', encoding='utf-8', index=False)"
   ]
  }
 ],
 "metadata": {
  "accelerator": "GPU",
  "colab": {
   "collapsed_sections": [],
   "name": "CNN_leaveout_patients_validation.ipynb",
   "provenance": []
  },
  "kernelspec": {
   "display_name": "Python 3",
   "language": "python",
   "name": "python3"
  },
  "language_info": {
   "codemirror_mode": {
    "name": "ipython",
    "version": 3
   },
   "file_extension": ".py",
   "mimetype": "text/x-python",
   "name": "python",
   "nbconvert_exporter": "python",
   "pygments_lexer": "ipython3",
   "version": "3.8.6"
  }
 },
 "nbformat": 4,
 "nbformat_minor": 4
}
