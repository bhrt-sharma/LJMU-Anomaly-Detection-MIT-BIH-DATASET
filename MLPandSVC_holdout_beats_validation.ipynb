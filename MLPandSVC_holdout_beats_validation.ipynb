{
 "cells": [
  {
   "cell_type": "markdown",
   "metadata": {},
   "source": [
    "# Classification of beats using MLP and SVC models and beat holdout method"
   ]
  },
  {
   "cell_type": "code",
   "execution_count": 10,
   "metadata": {},
   "outputs": [
    {
     "name": "stdout",
     "output_type": "stream",
     "text": [
      "3.10.10\n"
     ]
    }
   ],
   "source": [
    "from platform import python_version\n",
    "print(python_version())"
   ]
  },
  {
   "cell_type": "code",
   "execution_count": 6,
   "metadata": {},
   "outputs": [
    {
     "name": "stdout",
     "output_type": "stream",
     "text": [
      "Requirement already satisfied: pip in c:\\users\\bhara\\appdata\\local\\packages\\pythonsoftwarefoundation.python.3.10_qbz5n2kfra8p0\\localcache\\local-packages\\python310\\site-packages (23.0.1)\n"
     ]
    }
   ],
   "source": [
    "!pip3 install --upgrade pip"
   ]
  },
  {
   "cell_type": "code",
   "execution_count": 14,
   "metadata": {},
   "outputs": [
    {
     "name": "stderr",
     "output_type": "stream",
     "text": [
      "ERROR: Could not find a version that satisfies the requirement tensorflow==2.2 (from versions: 2.8.0rc1, 2.8.0, 2.8.1, 2.8.2, 2.8.3, 2.8.4, 2.9.0rc0, 2.9.0rc1, 2.9.0rc2, 2.9.0, 2.9.1, 2.9.2, 2.9.3, 2.10.0rc0, 2.10.0rc1, 2.10.0rc2, 2.10.0rc3, 2.10.0, 2.10.1, 2.11.0rc0, 2.11.0rc1, 2.11.0rc2, 2.11.0, 2.12.0rc0)\n",
      "ERROR: No matching distribution found for tensorflow==2.2\n"
     ]
    }
   ],
   "source": [
    "!pip3 install --user tensorflow==2.2"
   ]
  },
  {
   "cell_type": "code",
   "execution_count": 17,
   "metadata": {},
   "outputs": [
    {
     "name": "stdout",
     "output_type": "stream",
     "text": [
      "Collecting tensorflow==2.8\n",
      "  Using cached tensorflow-2.8.0-cp310-cp310-win_amd64.whl (438.0 MB)\n",
      "Requirement already satisfied: gast>=0.2.1 in c:\\users\\bhara\\appdata\\local\\packages\\pythonsoftwarefoundation.python.3.10_qbz5n2kfra8p0\\localcache\\local-packages\\python310\\site-packages (from tensorflow==2.8) (0.5.3)\n",
      "Requirement already satisfied: tf-estimator-nightly==2.8.0.dev2021122109 in c:\\users\\bhara\\appdata\\local\\packages\\pythonsoftwarefoundation.python.3.10_qbz5n2kfra8p0\\localcache\\local-packages\\python310\\site-packages (from tensorflow==2.8) (2.8.0.dev2021122109)\n",
      "Requirement already satisfied: astunparse>=1.6.0 in c:\\users\\bhara\\appdata\\local\\packages\\pythonsoftwarefoundation.python.3.10_qbz5n2kfra8p0\\localcache\\local-packages\\python310\\site-packages (from tensorflow==2.8) (1.6.3)\n",
      "Requirement already satisfied: tensorflow-io-gcs-filesystem>=0.23.1 in c:\\users\\bhara\\appdata\\local\\packages\\pythonsoftwarefoundation.python.3.10_qbz5n2kfra8p0\\localcache\\local-packages\\python310\\site-packages (from tensorflow==2.8) (0.31.0)\n",
      "Requirement already satisfied: keras-preprocessing>=1.1.1 in c:\\users\\bhara\\appdata\\local\\packages\\pythonsoftwarefoundation.python.3.10_qbz5n2kfra8p0\\localcache\\local-packages\\python310\\site-packages (from tensorflow==2.8) (1.1.2)\n",
      "Requirement already satisfied: grpcio<2.0,>=1.24.3 in c:\\users\\bhara\\appdata\\local\\packages\\pythonsoftwarefoundation.python.3.10_qbz5n2kfra8p0\\localcache\\local-packages\\python310\\site-packages (from tensorflow==2.8) (1.51.3)\n",
      "Requirement already satisfied: protobuf>=3.9.2 in c:\\users\\bhara\\appdata\\local\\packages\\pythonsoftwarefoundation.python.3.10_qbz5n2kfra8p0\\localcache\\local-packages\\python310\\site-packages (from tensorflow==2.8) (4.22.0)\n",
      "Requirement already satisfied: typing-extensions>=3.6.6 in c:\\users\\bhara\\appdata\\local\\packages\\pythonsoftwarefoundation.python.3.10_qbz5n2kfra8p0\\localcache\\local-packages\\python310\\site-packages (from tensorflow==2.8) (4.5.0)\n",
      "Requirement already satisfied: libclang>=9.0.1 in c:\\users\\bhara\\appdata\\local\\packages\\pythonsoftwarefoundation.python.3.10_qbz5n2kfra8p0\\localcache\\local-packages\\python310\\site-packages (from tensorflow==2.8) (15.0.6.1)\n",
      "Requirement already satisfied: setuptools in c:\\program files\\windowsapps\\pythonsoftwarefoundation.python.3.10_3.10.2800.0_x64__qbz5n2kfra8p0\\lib\\site-packages (from tensorflow==2.8) (65.5.0)\n",
      "Requirement already satisfied: wrapt>=1.11.0 in c:\\users\\bhara\\appdata\\local\\packages\\pythonsoftwarefoundation.python.3.10_qbz5n2kfra8p0\\localcache\\local-packages\\python310\\site-packages (from tensorflow==2.8) (1.15.0)\n",
      "Requirement already satisfied: flatbuffers>=1.12 in c:\\users\\bhara\\appdata\\local\\packages\\pythonsoftwarefoundation.python.3.10_qbz5n2kfra8p0\\localcache\\local-packages\\python310\\site-packages (from tensorflow==2.8) (23.1.21)\n",
      "Requirement already satisfied: numpy>=1.20 in c:\\users\\bhara\\appdata\\local\\packages\\pythonsoftwarefoundation.python.3.10_qbz5n2kfra8p0\\localcache\\local-packages\\python310\\site-packages (from tensorflow==2.8) (1.24.2)\n",
      "Requirement already satisfied: keras<2.9,>=2.8.0rc0 in c:\\users\\bhara\\appdata\\local\\packages\\pythonsoftwarefoundation.python.3.10_qbz5n2kfra8p0\\localcache\\local-packages\\python310\\site-packages (from tensorflow==2.8) (2.8.0)\n",
      "Requirement already satisfied: absl-py>=0.4.0 in c:\\users\\bhara\\appdata\\local\\packages\\pythonsoftwarefoundation.python.3.10_qbz5n2kfra8p0\\localcache\\local-packages\\python310\\site-packages (from tensorflow==2.8) (1.4.0)\n",
      "Requirement already satisfied: h5py>=2.9.0 in c:\\users\\bhara\\appdata\\local\\packages\\pythonsoftwarefoundation.python.3.10_qbz5n2kfra8p0\\localcache\\local-packages\\python310\\site-packages (from tensorflow==2.8) (3.8.0)\n",
      "Requirement already satisfied: six>=1.12.0 in c:\\users\\bhara\\appdata\\local\\packages\\pythonsoftwarefoundation.python.3.10_qbz5n2kfra8p0\\localcache\\local-packages\\python310\\site-packages (from tensorflow==2.8) (1.16.0)\n",
      "Requirement already satisfied: google-pasta>=0.1.1 in c:\\users\\bhara\\appdata\\local\\packages\\pythonsoftwarefoundation.python.3.10_qbz5n2kfra8p0\\localcache\\local-packages\\python310\\site-packages (from tensorflow==2.8) (0.2.0)\n",
      "Requirement already satisfied: tensorboard<2.9,>=2.8 in c:\\users\\bhara\\appdata\\local\\packages\\pythonsoftwarefoundation.python.3.10_qbz5n2kfra8p0\\localcache\\local-packages\\python310\\site-packages (from tensorflow==2.8) (2.8.0)\n",
      "Requirement already satisfied: termcolor>=1.1.0 in c:\\users\\bhara\\appdata\\local\\packages\\pythonsoftwarefoundation.python.3.10_qbz5n2kfra8p0\\localcache\\local-packages\\python310\\site-packages (from tensorflow==2.8) (2.2.0)\n",
      "Requirement already satisfied: opt-einsum>=2.3.2 in c:\\users\\bhara\\appdata\\local\\packages\\pythonsoftwarefoundation.python.3.10_qbz5n2kfra8p0\\localcache\\local-packages\\python310\\site-packages (from tensorflow==2.8) (3.3.0)\n",
      "Requirement already satisfied: wheel<1.0,>=0.23.0 in c:\\users\\bhara\\appdata\\local\\packages\\pythonsoftwarefoundation.python.3.10_qbz5n2kfra8p0\\localcache\\local-packages\\python310\\site-packages (from astunparse>=1.6.0->tensorflow==2.8) (0.38.4)\n",
      "Requirement already satisfied: tensorboard-data-server<0.7.0,>=0.6.0 in c:\\users\\bhara\\appdata\\local\\packages\\pythonsoftwarefoundation.python.3.10_qbz5n2kfra8p0\\localcache\\local-packages\\python310\\site-packages (from tensorboard<2.9,>=2.8->tensorflow==2.8) (0.6.1)\n",
      "Requirement already satisfied: requests<3,>=2.21.0 in c:\\users\\bhara\\appdata\\local\\packages\\pythonsoftwarefoundation.python.3.10_qbz5n2kfra8p0\\localcache\\local-packages\\python310\\site-packages (from tensorboard<2.9,>=2.8->tensorflow==2.8) (2.28.2)\n",
      "Requirement already satisfied: markdown>=2.6.8 in c:\\users\\bhara\\appdata\\local\\packages\\pythonsoftwarefoundation.python.3.10_qbz5n2kfra8p0\\localcache\\local-packages\\python310\\site-packages (from tensorboard<2.9,>=2.8->tensorflow==2.8) (3.4.1)\n",
      "Requirement already satisfied: werkzeug>=0.11.15 in c:\\users\\bhara\\appdata\\local\\packages\\pythonsoftwarefoundation.python.3.10_qbz5n2kfra8p0\\localcache\\local-packages\\python310\\site-packages (from tensorboard<2.9,>=2.8->tensorflow==2.8) (2.2.3)\n",
      "Requirement already satisfied: google-auth-oauthlib<0.5,>=0.4.1 in c:\\users\\bhara\\appdata\\local\\packages\\pythonsoftwarefoundation.python.3.10_qbz5n2kfra8p0\\localcache\\local-packages\\python310\\site-packages (from tensorboard<2.9,>=2.8->tensorflow==2.8) (0.4.6)\n",
      "Requirement already satisfied: tensorboard-plugin-wit>=1.6.0 in c:\\users\\bhara\\appdata\\local\\packages\\pythonsoftwarefoundation.python.3.10_qbz5n2kfra8p0\\localcache\\local-packages\\python310\\site-packages (from tensorboard<2.9,>=2.8->tensorflow==2.8) (1.8.1)\n",
      "Requirement already satisfied: google-auth<3,>=1.6.3 in c:\\users\\bhara\\appdata\\local\\packages\\pythonsoftwarefoundation.python.3.10_qbz5n2kfra8p0\\localcache\\local-packages\\python310\\site-packages (from tensorboard<2.9,>=2.8->tensorflow==2.8) (2.16.1)\n",
      "Requirement already satisfied: rsa<5,>=3.1.4 in c:\\users\\bhara\\appdata\\local\\packages\\pythonsoftwarefoundation.python.3.10_qbz5n2kfra8p0\\localcache\\local-packages\\python310\\site-packages (from google-auth<3,>=1.6.3->tensorboard<2.9,>=2.8->tensorflow==2.8) (4.9)\n",
      "Requirement already satisfied: cachetools<6.0,>=2.0.0 in c:\\users\\bhara\\appdata\\local\\packages\\pythonsoftwarefoundation.python.3.10_qbz5n2kfra8p0\\localcache\\local-packages\\python310\\site-packages (from google-auth<3,>=1.6.3->tensorboard<2.9,>=2.8->tensorflow==2.8) (5.3.0)\n",
      "Requirement already satisfied: pyasn1-modules>=0.2.1 in c:\\users\\bhara\\appdata\\local\\packages\\pythonsoftwarefoundation.python.3.10_qbz5n2kfra8p0\\localcache\\local-packages\\python310\\site-packages (from google-auth<3,>=1.6.3->tensorboard<2.9,>=2.8->tensorflow==2.8) (0.2.8)\n",
      "Requirement already satisfied: requests-oauthlib>=0.7.0 in c:\\users\\bhara\\appdata\\local\\packages\\pythonsoftwarefoundation.python.3.10_qbz5n2kfra8p0\\localcache\\local-packages\\python310\\site-packages (from google-auth-oauthlib<0.5,>=0.4.1->tensorboard<2.9,>=2.8->tensorflow==2.8) (1.3.1)\n",
      "Requirement already satisfied: charset-normalizer<4,>=2 in c:\\users\\bhara\\appdata\\local\\packages\\pythonsoftwarefoundation.python.3.10_qbz5n2kfra8p0\\localcache\\local-packages\\python310\\site-packages (from requests<3,>=2.21.0->tensorboard<2.9,>=2.8->tensorflow==2.8) (3.0.1)\n",
      "Requirement already satisfied: idna<4,>=2.5 in c:\\users\\bhara\\appdata\\local\\packages\\pythonsoftwarefoundation.python.3.10_qbz5n2kfra8p0\\localcache\\local-packages\\python310\\site-packages (from requests<3,>=2.21.0->tensorboard<2.9,>=2.8->tensorflow==2.8) (3.4)\n",
      "Requirement already satisfied: certifi>=2017.4.17 in c:\\users\\bhara\\appdata\\local\\packages\\pythonsoftwarefoundation.python.3.10_qbz5n2kfra8p0\\localcache\\local-packages\\python310\\site-packages (from requests<3,>=2.21.0->tensorboard<2.9,>=2.8->tensorflow==2.8) (2022.12.7)\n",
      "Requirement already satisfied: urllib3<1.27,>=1.21.1 in c:\\users\\bhara\\appdata\\local\\packages\\pythonsoftwarefoundation.python.3.10_qbz5n2kfra8p0\\localcache\\local-packages\\python310\\site-packages (from requests<3,>=2.21.0->tensorboard<2.9,>=2.8->tensorflow==2.8) (1.26.14)\n",
      "Requirement already satisfied: MarkupSafe>=2.1.1 in c:\\users\\bhara\\appdata\\local\\packages\\pythonsoftwarefoundation.python.3.10_qbz5n2kfra8p0\\localcache\\local-packages\\python310\\site-packages (from werkzeug>=0.11.15->tensorboard<2.9,>=2.8->tensorflow==2.8) (2.1.2)\n",
      "Requirement already satisfied: pyasn1<0.5.0,>=0.4.6 in c:\\users\\bhara\\appdata\\local\\packages\\pythonsoftwarefoundation.python.3.10_qbz5n2kfra8p0\\localcache\\local-packages\\python310\\site-packages (from pyasn1-modules>=0.2.1->google-auth<3,>=1.6.3->tensorboard<2.9,>=2.8->tensorflow==2.8) (0.4.8)\n",
      "Requirement already satisfied: oauthlib>=3.0.0 in c:\\users\\bhara\\appdata\\local\\packages\\pythonsoftwarefoundation.python.3.10_qbz5n2kfra8p0\\localcache\\local-packages\\python310\\site-packages (from requests-oauthlib>=0.7.0->google-auth-oauthlib<0.5,>=0.4.1->tensorboard<2.9,>=2.8->tensorflow==2.8) (3.2.2)\n",
      "Installing collected packages: tensorflow\n",
      "Successfully installed tensorflow-2.8.0\n"
     ]
    },
    {
     "name": "stderr",
     "output_type": "stream",
     "text": [
      "  WARNING: The scripts estimator_ckpt_converter.exe, import_pb_to_tensorboard.exe, saved_model_cli.exe, tensorboard.exe, tf_upgrade_v2.exe, tflite_convert.exe, toco.exe and toco_from_protos.exe are installed in 'C:\\Users\\bhara\\AppData\\Local\\Packages\\PythonSoftwareFoundation.Python.3.10_qbz5n2kfra8p0\\LocalCache\\local-packages\\Python310\\Scripts' which is not on PATH.\n",
      "  Consider adding this directory to PATH or, if you prefer to suppress this warning, use --no-warn-script-location.\n"
     ]
    }
   ],
   "source": [
    "!pip3 install --user tensorflow==2.8"
   ]
  },
  {
   "cell_type": "code",
   "execution_count": 2,
   "metadata": {
    "id": "NVdEZoYZcDOy"
   },
   "outputs": [],
   "source": [
    "# Imports:\n",
    "import numpy as np\n",
    "import pickle\n",
    "import glob\n",
    "import matplotlib.pyplot as plt\n",
    "import pandas as pd\n",
    "import os\n",
    "import seaborn as sns\n",
    "from sklearn.metrics import *\n",
    "import tensorflow as tf\n",
    "from tensorflow.keras.utils import to_categorical\n",
    "from tensorflow.keras.models import Sequential\n",
    "from tensorflow.keras.layers import Dense\n",
    "length = 277"
   ]
  },
  {
   "cell_type": "markdown",
   "metadata": {
    "id": "o2V86J9zZzng"
   },
   "source": [
    "### Load the holdout beats data and one-hot encode the heart beat classes"
   ]
  },
  {
   "cell_type": "code",
   "execution_count": 3,
   "metadata": {
    "id": "RLZ3eJ6LZ9Ug"
   },
   "outputs": [
    {
     "name": "stdout",
     "output_type": "stream",
     "text": [
      "Loading  ../mimic3-code-main/module2_week1/train_beats.csv\n",
      "Loading  ../mimic3-code-main/module2_week1/test_beats.csv\n",
      "(31912, 277)\n",
      "(37863, 277)\n"
     ]
    }
   ],
   "source": [
    "# Load the training and testing data:\n",
    "train_values = np.empty(shape=[0, length])\n",
    "test_values = np.empty(shape=[0, length])\n",
    "\n",
    "train_beats = glob.glob('./train_beats.csv')\n",
    "test_beats = glob.glob('./test_beats.csv')\n",
    "\n",
    "for j in train_beats:\n",
    "    print('Loading ', j)\n",
    "    csvrows = np.loadtxt(j, delimiter=',')\n",
    "    train_values = np.append(train_values, csvrows, axis=0)\n",
    "\n",
    "for j in test_beats:\n",
    "    print('Loading ', j)\n",
    "    csvrows = np.loadtxt(j, delimiter=',')\n",
    "    test_values = np.append(test_values, csvrows, axis=0)\n",
    "    \n",
    "print(train_values.shape)\n",
    "print(test_values.shape)\n",
    "\n",
    "# Separate the training and testing data, and one-hot encode Y:\n",
    "X_train = train_values[:,:-2]\n",
    "X_test = test_values[:,:-2]\n",
    "y_train = train_values[:,-2]\n",
    "y_test = test_values[:,-2]\n",
    "\n",
    "# One-hot encode Y:\n",
    "y_train1 = to_categorical(y_train)\n",
    "y_test1 = to_categorical(y_test)"
   ]
  },
  {
   "cell_type": "markdown",
   "metadata": {
    "id": "--l7xBnGaCAd"
   },
   "source": [
    "### Create show results function"
   ]
  },
  {
   "cell_type": "code",
   "execution_count": 14,
   "metadata": {
    "id": "QUDUyxFraGsf"
   },
   "outputs": [],
   "source": [
    "def showResults(test, pred, model_name):\n",
    "    accuracy = accuracy_score(test, pred)\n",
    "    precision= precision_score(test, pred, average='macro')\n",
    "    recall = recall_score(test, pred, average = 'macro')\n",
    "    f1score_macro = f1_score(test, pred, average='macro') \n",
    "    f1score_micro = f1_score(test, pred, average='micro') \n",
    "    print(\"Accuracy  : {}\".format(accuracy))\n",
    "    print(\"Precision : {}\".format(precision))\n",
    "    print(\"Recall : {}\".format(recall))\n",
    "    print(\"f1score macro : {}\".format(f1score_macro))\n",
    "    print(\"f1score micro : {}\".format(f1score_micro))\n",
    "    cm=confusion_matrix(test, pred, labels=[1,2,3,4,5,6,7,8])\n",
    "    return (model_name, round(accuracy,3), round(precision,3) , round(recall,3) , round(f1score_macro,3), \n",
    "            round(f1score_micro, 3), cm)"
   ]
  },
  {
   "cell_type": "markdown",
   "metadata": {
    "id": "bIs-RQ34jyaT"
   },
   "source": [
    "### Build the multi-layer perceptron architecture and train the model"
   ]
  },
  {
   "cell_type": "code",
   "execution_count": 32,
   "metadata": {},
   "outputs": [
    {
     "name": "stdout",
     "output_type": "stream",
     "text": [
      "Model: \"sequential\"\n",
      "_________________________________________________________________\n",
      "Layer (type)                 Output Shape              Param #   \n",
      "=================================================================\n",
      "dense (Dense)                (None, 100)               27600     \n",
      "_________________________________________________________________\n",
      "dense_1 (Dense)              (None, 9)                 909       \n",
      "=================================================================\n",
      "Total params: 28,509\n",
      "Trainable params: 28,509\n",
      "Non-trainable params: 0\n",
      "_________________________________________________________________\n"
     ]
    }
   ],
   "source": [
    "# Build a multi-layer perceptron:\n",
    "def getModel():\n",
    "    mlpmodel = Sequential()\n",
    "    mlpmodel.add(Dense(100, activation = 'relu'))\n",
    "    mlpmodel.add(Dense(9, activation = 'softmax'))\n",
    "    return mlpmodel\n",
    "\n",
    "mlpmodel = getModel()\n",
    "mlpmodel.compile(optimizer = 'adam', loss = tf.keras.losses.CategoricalCrossentropy())\n",
    "\n",
    "mlpmodel.summary()"
   ]
  },
  {
   "cell_type": "code",
   "execution_count": null,
   "metadata": {},
   "outputs": [],
   "source": [
    "mlphistory = mlpmodel.fit(X_train, y_train1, validation_split = 0.2, epochs = 100, verbose = 0)"
   ]
  },
  {
   "cell_type": "code",
   "execution_count": 7,
   "metadata": {},
   "outputs": [],
   "source": [
    "# Save the model so we can visualize it with Netron (https://github.com/lutzroeder/netron):\n",
    "tf.keras.models.save_model(mlpmodel, 'mlpmodel_module2.h5')"
   ]
  },
  {
   "cell_type": "markdown",
   "metadata": {
    "id": "ASHB50oCj6DU"
   },
   "source": [
    "### NNMLP Performance Metrics"
   ]
  },
  {
   "cell_type": "code",
   "execution_count": 15,
   "metadata": {},
   "outputs": [
    {
     "name": "stdout",
     "output_type": "stream",
     "text": [
      "Accuracy  : 0.9516414441539234\n",
      "Precision : 0.780751183514714\n",
      "Recall : 0.9509532596614665\n",
      "f1score macro : 0.8405461336913103\n",
      "f1score micro : 0.9516414441539234\n"
     ]
    }
   ],
   "source": [
    "# Performance metrics\n",
    "pred = mlpmodel.predict(X_test)\n",
    "nnmlp_results = showResults(np.argmax(y_test1, axis = 1), np.argmax(pred, axis = 1), 'NNMLP')"
   ]
  },
  {
   "cell_type": "code",
   "execution_count": 39,
   "metadata": {},
   "outputs": [
    {
     "data": {
      "image/png": "[encoded data removed]",
      "text/plain": [
       "<Figure size 432x288 with 1 Axes>"
      ]
     },
     "metadata": {
      "needs_background": "light"
     },
     "output_type": "display_data"
    }
   ],
   "source": [
    "fig = plt.figure()\n",
    "plt.plot(mlphistory.history['loss'])\n",
    "plt.plot(mlphistory.history['val_loss'])\n",
    "plt.title('model loss')\n",
    "plt.ylabel('loss')\n",
    "plt.xlabel('epoch')\n",
    "plt.legend(['train', 'val'], loc='upper left')\n",
    "plt.show()\n",
    "fig.savefig('mlp_holdout_beats_loss_and_cm_a.jpg', dpi = 400)"
   ]
  },
  {
   "cell_type": "code",
   "execution_count": 13,
   "metadata": {},
   "outputs": [
    {
     "data": {
      "image/png": "[encoded data removed]",
      "text/plain": [
       "<Figure size 576x432 with 2 Axes>"
      ]
     },
     "metadata": {
      "needs_background": "light"
     },
     "output_type": "display_data"
    }
   ],
   "source": [
    "categories=['N','L','R','V','A','F','f','/']\n",
    "fig = plt.figure(figsize=(8,6))\n",
    "cm = confusion_matrix(np.argmax(y_test1, axis = 1), np.argmax(pred, axis = 1), normalize='true')\n",
    "sns.heatmap(cm, annot=True, xticklabels=categories, yticklabels=categories)\n",
    "plt.title('NNMLP Confusion Matrix')\n",
    "plt.show()\n",
    "#fig.savefig('mlp_holdout_beats_loss_and_cm_b.jpg', dpi = 400)"
   ]
  },
  {
   "cell_type": "code",
   "execution_count": 42,
   "metadata": {
    "colab": {
     "base_uri": "https://localhost:8080/",
     "height": 435
    },
    "id": "6P0QLATrcGk1",
    "outputId": "f44f4077-bfb9-440a-a9dc-c6d3949e76f7"
   },
   "outputs": [
    {
     "data": {
      "image/png": "[encoded data removed]",
      "text/plain": [
       "<Figure size 288x432 with 1 Axes>"
      ]
     },
     "metadata": {
      "needs_background": "light"
     },
     "output_type": "display_data"
    }
   ],
   "source": [
    "# performance metrics\n",
    "NNMLP_results = pd.DataFrame(data=(nnmlp_results),index=('Model','Accuracy','Precision','Recall','F1score (macro)', 'F1score (micro)','CM'))\n",
    "fig = plt.figure(figsize=(4,6))\n",
    "NNMLP_results[0][1:6].plot(kind='bar')\n",
    "plt.show()\n",
    "fig.tight_layout()\n",
    "fig.savefig('mlp_holdout_beats_metrics.jpg', dpi = 400)"
   ]
  },
  {
   "cell_type": "markdown",
   "metadata": {
    "id": "gEFoahaTkACS"
   },
   "source": [
    "### Save NNMLP model, model weights and results\n"
   ]
  },
  {
   "cell_type": "code",
   "execution_count": 25,
   "metadata": {},
   "outputs": [
    {
     "name": "stdout",
     "output_type": "stream",
     "text": [
      "INFO:tensorflow:Assets written to: ./model_weights/NNMLP_model_beats\\assets\n"
     ]
    }
   ],
   "source": [
    "if not os.path.exists('./model_weights/'):\n",
    "    os.mkdir('model_weights')\n",
    "mlpmodel.save('./model_weights/NNMLP_model_beats')\n",
    "\n",
    "if not os.path.exists('./model_results/'):\n",
    "    os.mkdir('model_results')\n",
    "NNMLP_results.to_csv('./model_results/nnmlp_beats_results.csv', encoding='utf-8', index=False)"
   ]
  },
  {
   "cell_type": "markdown",
   "metadata": {
    "id": "fetDVa-UkMJC"
   },
   "source": [
    "### Initialize and train an SVC model"
   ]
  },
  {
   "cell_type": "code",
   "execution_count": 26,
   "metadata": {
    "colab": {
     "base_uri": "https://localhost:8080/"
    },
    "id": "cd092b0VYkZv",
    "outputId": "ea92380c-45ba-4121-ca16-b47eb6c02a4b"
   },
   "outputs": [
    {
     "name": "stdout",
     "output_type": "stream",
     "text": [
      "Support Vector Results\n",
      "0.9483928901566173\n"
     ]
    }
   ],
   "source": [
    "#support vector classifier\n",
    "from sklearn.pipeline import make_pipeline\n",
    "from sklearn.preprocessing import StandardScaler\n",
    "from sklearn.svm import SVC\n",
    "\n",
    "svc_clf = make_pipeline(StandardScaler(), SVC(gamma='auto'))\n",
    "svc_clf.fit(X_train, y_train)\n",
    "print('Support Vector Results')\n",
    "y_pred_svc = svc_clf.predict(X_test)\n",
    "print(svc_clf.score(X_test,y_test))"
   ]
  },
  {
   "cell_type": "markdown",
   "metadata": {
    "id": "xcqqF9XqkO9_"
   },
   "source": [
    "### SVC Performance metrics"
   ]
  },
  {
   "cell_type": "code",
   "execution_count": 27,
   "metadata": {
    "colab": {
     "base_uri": "https://localhost:8080/"
    },
    "id": "PX3Ghj5OguOf",
    "outputId": "aacd80f1-bcb0-40fe-c739-c6c4c5ae9510"
   },
   "outputs": [
    {
     "name": "stdout",
     "output_type": "stream",
     "text": [
      "Accuracy  : 0.9483928901566173\n",
      "Precision : 0.7776176240756051\n",
      "Recall : 0.9556225021951151\n",
      "f1score macro : 0.8295184273339967\n",
      "f1score micro : 0.9483928901566173\n"
     ]
    }
   ],
   "source": [
    "# performance metrics\n",
    "svc_results = showResults(y_test, y_pred_svc, 'SVC')"
   ]
  },
  {
   "cell_type": "code",
   "execution_count": 28,
   "metadata": {
    "colab": {
     "base_uri": "https://localhost:8080/",
     "height": 393
    },
    "id": "OrOMUmZ4gxet",
    "outputId": "babec761-c527-45fe-c683-c1fbe1309a6a"
   },
   "outputs": [
    {
     "data": {
      "image/png": "[encoded data removed]",
      "text/plain": [
       "<Figure size 576x432 with 2 Axes>"
      ]
     },
     "metadata": {
      "needs_background": "light"
     },
     "output_type": "display_data"
    }
   ],
   "source": [
    "# performance metrics\n",
    "categories=['N','L','R','V','A','F','f','/']\n",
    "\n",
    "fig = plt.figure(figsize=(8,6))\n",
    "\n",
    "cm = confusion_matrix(y_test, y_pred_svc, normalize='true')\n",
    "sns.heatmap(cm, annot=True, xticklabels=categories, yticklabels=categories)\n",
    "plt.title('SVC Confusion Matrix')\n",
    "plt.show()\n",
    "fig.savefig('svc_holdout_beats_confusion_matrix_and_metrics_a.jpg', dpi = 400)"
   ]
  },
  {
   "cell_type": "code",
   "execution_count": 43,
   "metadata": {
    "colab": {
     "base_uri": "https://localhost:8080/",
     "height": 438
    },
    "id": "YPLF0_GIePpF",
    "outputId": "e8f49aee-ad68-4ccd-d298-c95f2193b2bb"
   },
   "outputs": [
    {
     "data": {
      "image/png": "[encoded data removed]",
      "text/plain": [
       "<Figure size 288x432 with 1 Axes>"
      ]
     },
     "metadata": {
      "needs_background": "light"
     },
     "output_type": "display_data"
    }
   ],
   "source": [
    "# performance metrics\n",
    "SVC_results = pd.DataFrame(data=(svc_results),index=('Model','Accuracy','Precision','Recall','F1score (macro)', \n",
    "                                                     'F1score (micro)','CM'))\n",
    "fig = plt.figure(figsize=(4,6))\n",
    "SVC_results[0][1:6].plot(kind='bar')\n",
    "plt.show()\n",
    "fig.tight_layout()\n",
    "fig.savefig('svc_holdout_beats_confusion_matrix_and_metrics_b.jpg', dpi = 400)"
   ]
  },
  {
   "cell_type": "markdown",
   "metadata": {
    "id": "_TEFOSjJkTsT"
   },
   "source": [
    "### Save SVC model, model weights and results\n"
   ]
  },
  {
   "cell_type": "code",
   "execution_count": 30,
   "metadata": {
    "colab": {
     "base_uri": "https://localhost:8080/"
    },
    "id": "46yOHH-zeA5U",
    "outputId": "6d2a7b8c-ea61-426f-e523-641a3e75186a"
   },
   "outputs": [
    {
     "name": "stdout",
     "output_type": "stream",
     "text": [
      "                                                                 0\n",
      "Model                                                          SVC\n",
      "Accuracy                                                     0.948\n",
      "Precision                                                    0.778\n",
      "Recall                                                       0.956\n",
      "F1score (macro)                                               0.83\n",
      "F1score (micro)                                              0.948\n",
      "CM               [[26975, 13, 7, 369, 556, 666, 117, 0], [3, 16...\n"
     ]
    }
   ],
   "source": [
    "# Save to file in the current working directory\n",
    "pkl_svc = \"./model_weights/SVC_model_beats.pkl\"\n",
    "with open(pkl_svc, 'wb') as file:\n",
    "    pickle.dump(svc_clf, file)\n",
    "\n",
    "# Load from file\n",
    "# with open(pkl_svc, 'rb') as file:\n",
    "#     pickle_svc = pickle.load(file)\n",
    "\n",
    "print(SVC_results)\n",
    "SVC_results.to_csv('./model_results/svc_beats_results.csv', encoding='utf-8', index=False)"
   ]
  }
 ],
 "metadata": {
  "colab": {
   "collapsed_sections": [],
   "name": "MLPandSVC_holdout_beats_validation.ipynb",
   "provenance": []
  },
  "kernelspec": {
   "display_name": "Python 3 (ipykernel)",
   "language": "python",
   "name": "python3"
  },
  "language_info": {
   "codemirror_mode": {
    "name": "ipython",
    "version": 3
   },
   "file_extension": ".py",
   "mimetype": "text/x-python",
   "name": "python",
   "nbconvert_exporter": "python",
   "pygments_lexer": "ipython3",
   "version": "3.10.10"
  }
 },
 "nbformat": 4,
 "nbformat_minor": 4
}
